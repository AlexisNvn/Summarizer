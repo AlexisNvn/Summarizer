{
 "cells": [
  {
   "cell_type": "code",
   "execution_count": 5,
   "metadata": {},
   "outputs": [],
   "source": [
    "import sys\n",
    "import h5py\n",
    "import numpy as np"
   ]
  },
  {
   "cell_type": "raw",
   "metadata": {},
   "source": [
    "/key\n",
    "    /features                 2D-array with shape (n_steps, feature-dimension)\n",
    "    /gtscore                  1D-array with shape (n_steps), stores ground truth improtance score\n",
    "    /user_summary             2D-array with shape (num_users, n_frames), each row is a binary vector\n",
    "    /change_points            2D-array with shape (num_segments, 2), each row stores indices of a segment\n",
    "    /n_frame_per_seg          1D-array with shape (num_segments), indicates number of frames in each segment\n",
    "    /n_frames                 number of frames in original video\n",
    "    /picks                    posotions of subsampled frames in original video\n",
    "    /n_steps                  number of subsampled frames\n",
    "    /gtsummary                1D-array with shape (n_steps), ground truth summary provided by user\n",
    "    /video_name (optional)    original video name, only available for SumMe dataset"
   ]
  },
  {
   "cell_type": "markdown",
   "metadata": {},
   "source": [
    "# SumMe\n",
    "Original link: https://gyglim.github.io/me/vsum/index.html"
   ]
  },
  {
   "cell_type": "code",
   "execution_count": 6,
   "metadata": {},
   "outputs": [
    {
     "output_type": "stream",
     "name": "stdout",
     "text": "['video_1', 'video_10', 'video_11', 'video_12', 'video_13', 'video_14', 'video_15', 'video_16', 'video_17', 'video_18', 'video_19', 'video_2', 'video_20', 'video_21', 'video_22', 'video_23', 'video_24', 'video_25', 'video_3', 'video_4', 'video_5', 'video_6', 'video_7', 'video_8', 'video_9'] \n\nTotal: 25 videos\n\n"
    }
   ],
   "source": [
    "dataset = h5py.File(\"summarizer_dataset_summe_google_pool5.h5\", \"r\")\n",
    "print(list(dataset.keys()), \"\\n\")\n",
    "print(f\"Total: {len(dataset.keys())} videos\\n\")"
   ]
  },
  {
   "cell_type": "code",
   "execution_count": 7,
   "metadata": {},
   "outputs": [
    {
     "output_type": "execute_result",
     "data": {
      "text/plain": "['change_points',\n 'features',\n 'gtscore',\n 'gtsummary',\n 'n_frame_per_seg',\n 'n_frames',\n 'n_steps',\n 'picks',\n 'user_summary',\n 'video_name']"
     },
     "metadata": {},
     "execution_count": 7
    }
   ],
   "source": [
    "video_1 = dataset[\"video_1\"]\n",
    "list(video_1.keys())"
   ]
  },
  {
   "cell_type": "code",
   "execution_count": null,
   "metadata": {},
   "outputs": [],
   "source": []
  },
  {
   "cell_type": "code",
   "execution_count": 8,
   "metadata": {},
   "outputs": [
    {
     "output_type": "execute_result",
     "data": {
      "text/plain": "((15, 4494), (300,), (300,))"
     },
     "metadata": {},
     "execution_count": 8
    }
   ],
   "source": [
    "video_1[\"user_summary\"][...].shape, video_1[\"gtscore\"][...].shape, video_1[\"gtsummary\"][...].shape"
   ]
  },
  {
   "cell_type": "code",
   "execution_count": 9,
   "metadata": {},
   "outputs": [
    {
     "output_type": "execute_result",
     "data": {
      "text/plain": "b'Air_Force_One'"
     },
     "metadata": {},
     "execution_count": 9
    }
   ],
   "source": [
    "video_1[\"video_name\"][...].item()"
   ]
  },
  {
   "cell_type": "markdown",
   "metadata": {},
   "source": [
    "# TVSum"
   ]
  },
  {
   "cell_type": "code",
   "execution_count": 10,
   "metadata": {},
   "outputs": [
    {
     "output_type": "stream",
     "name": "stdout",
     "text": "['video_1', 'video_10', 'video_11', 'video_12', 'video_13', 'video_14', 'video_15', 'video_16', 'video_17', 'video_18', 'video_19', 'video_2', 'video_20', 'video_21', 'video_22', 'video_23', 'video_24', 'video_25', 'video_26', 'video_27', 'video_28', 'video_29', 'video_3', 'video_30', 'video_31', 'video_32', 'video_33', 'video_34', 'video_35', 'video_36', 'video_37', 'video_38', 'video_39', 'video_4', 'video_40', 'video_41', 'video_42', 'video_43', 'video_44', 'video_45', 'video_46', 'video_47', 'video_48', 'video_49', 'video_5', 'video_50', 'video_6', 'video_7', 'video_8', 'video_9'] \n\nTotal: 50 videos\n\n"
    }
   ],
   "source": [
    "dataset = h5py.File(\"summarizer_dataset_tvsum_google_pool5.h5\", \"r\")\n",
    "print(list(dataset.keys()), \"\\n\")\n",
    "print(f\"Total: {len(dataset.keys())} videos\\n\")"
   ]
  },
  {
   "cell_type": "code",
   "execution_count": 11,
   "metadata": {},
   "outputs": [
    {
     "output_type": "execute_result",
     "data": {
      "text/plain": "['change_points',\n 'features',\n 'gtscore',\n 'gtsummary',\n 'n_frame_per_seg',\n 'n_frames',\n 'n_steps',\n 'picks',\n 'user_summary',\n 'video_name']"
     },
     "metadata": {},
     "execution_count": 11
    }
   ],
   "source": [
    "video_1 = dataset[\"video_1\"]\n",
    "list(video_1.keys())"
   ]
  },
  {
   "cell_type": "code",
   "execution_count": 12,
   "metadata": {},
   "outputs": [
    {
     "output_type": "execute_result",
     "data": {
      "text/plain": "((20, 10597), (707,), (707,))"
     },
     "metadata": {},
     "execution_count": 12
    }
   ],
   "source": [
    "video_1[\"user_summary\"][...].shape, video_1[\"gtscore\"][...].shape, video_1[\"gtsummary\"][...].shape"
   ]
  },
  {
   "cell_type": "code",
   "execution_count": 13,
   "metadata": {},
   "outputs": [
    {
     "output_type": "execute_result",
     "data": {
      "text/plain": "'AwmHb44_ouw'"
     },
     "metadata": {},
     "execution_count": 13
    }
   ],
   "source": [
    "video_1[\"video_name\"][...].item()"
   ]
  }
 ],
 "metadata": {
  "kernelspec": {
   "display_name": "Python 3.7.6 64-bit ('VS37': conda)",
   "language": "python",
   "name": "python37664bitvs37conda74d6c56bdbe144ada303560869af001c"
  },
  "language_info": {
   "codemirror_mode": {
    "name": "ipython",
    "version": 2
   },
   "file_extension": ".py",
   "mimetype": "text/x-python",
   "name": "python",
   "nbconvert_exporter": "python",
   "pygments_lexer": "ipython2",
   "version": "3.7.6-final"
  }
 },
 "nbformat": 4,
 "nbformat_minor": 2
}